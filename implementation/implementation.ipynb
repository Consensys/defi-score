{
 "cells": [
  {
   "cell_type": "code",
   "execution_count": 5,
   "metadata": {},
   "outputs": [],
   "source": [
    "import json, requests, time, datetime, math\n",
    "from pprint import pprint\n",
    "import numpy as np\n",
    "import pandas as pd\n",
    "from scipy.stats import norm\n",
    "from pandas_datareader import data as pdr\n",
    "from functools import reduce\n",
    "import constants, web3_service, pool_data_service\n",
    "\n",
    "# Used to find portfolio weights for an array of balances\n",
    "def getWeights(balances):\n",
    "    total = 0\n",
    "    weights = []\n",
    "    for balance in balances:\n",
    "        total += balance['liquidity']\n",
    "    for balance in balances:\n",
    "        percentage = balance['liquidity']/total\n",
    "        weights.append(percentage)\n",
    "    return weights\n",
    "\n",
    "# Used to find historical USD values for stablecoins\n",
    "def getCryptoCompareReturns(token):\n",
    "    result = requests.get(f'https://min-api.cryptocompare.com/data/v2/histoday?fsym={token}&tsym=USD&limit=720')\n",
    "    json = result.json()\n",
    "    df = pd.DataFrame([object for object in json['Data']['Data']])\n",
    "    df.insert(0, 'Date', pd.to_datetime(df['time'],unit='s'))\n",
    "    df.drop(['high', 'open', 'low', 'volumefrom', 'volumeto', 'conversionType', 'conversionSymbol', 'time'], axis=1, inplace=True)\n",
    "    df.set_index('Date', inplace=True)\n",
    "    returns = df.copy().pct_change().fillna(value=0, axis=0).rename(columns={'close': f'daily_returns_{token}'})\n",
    "    return returns\n",
    "    \n",
    "# TODO - Fix Dates\n",
    "# Used to find historical USD values for all coins but stablecoins      \n",
    "def getReturns(tokens): \n",
    "    first_date = '2017-10-06'\n",
    "    last_date = '2019-09-25'\n",
    "    df_list = []\n",
    "    for token in tokens:\n",
    "        if (token['token'] == 'wbtc'):\n",
    "            token = token['token'][1:].upper()\n",
    "        else:\n",
    "            token = token['token'].upper()\n",
    "        if (token == 'DAI' or token == 'USDC' or token == 'MKR' or token == 'TUSD'):\n",
    "            ticker_returns = getCryptoCompareReturns(token)\n",
    "            df_list.append(ticker_returns)\n",
    "        else:\n",
    "            ticker = f'{token}-USD'\n",
    "            ticker_close = pdr.get_data_yahoo(ticker, first_date, last_date)[['Close']]\n",
    "            ticker_returns = ticker_close.copy().pct_change().fillna(value=0, axis=0).rename(columns={'Close': f'daily_returns_{token}'})\n",
    "            df_list.append(ticker_returns)\n",
    "    df = reduce(lambda x, y: pd.merge(x, y, on = 'Date'), df_list)\n",
    "    return df\n",
    "\n",
    "def value_at_risk(returns, weights, alpha=0.95, lookback_days=520):\n",
    "    # Multiply asset returns by weights to get one weighted portfolio return\n",
    "    portfolio_returns = returns.iloc[-lookback_days:].dot(weights)\n",
    "    # Compute the correct percentile loss and multiply by value invested\n",
    "    return np.percentile(portfolio_returns, 100 * (1-alpha))\n",
    "\n",
    "def cvar(returns, weights, alpha=0.95, lookback_days=520):\n",
    "    var = value_at_risk(returns, weights, alpha, lookback_days=lookback_days)\n",
    "    returns = returns.fillna(0.0)\n",
    "    portfolio_returns = returns.iloc[-lookback_days:].dot(weights)\n",
    "    # Get back to a return rather than an absolute loss\n",
    "    var_pct_loss = var / 1\n",
    "    return np.nanmean(portfolio_returns[portfolio_returns < var_pct_loss])\n",
    "\n",
    "def generate_cvar_from_balances(balances):\n",
    "    weights = getWeights(balances)\n",
    "    returns = getReturns(balances)\n",
    "    returns = returns.fillna(0.0)\n",
    "    portfolio_returns = returns.fillna(0.0).iloc[-520:].dot(weights)\n",
    "    portfolio_cvar = cvar(returns, weights, 0.99, 520)\n",
    "    return portfolio_cvar\n",
    "\n",
    "def EMACalc(m_array, m_range):\n",
    "    k = 2/(m_range + 1)\n",
    "    # first item is just the same as the first item in the input\n",
    "    ema_array = [m_array[0]]\n",
    "    # for the rest of the items, they are computed with the previous one\n",
    "    i = 1\n",
    "    while i < m_range:\n",
    "        ema_array.append(m_array[i] * k + ema_array[i - 1] * (1 - k))\n",
    "        i += 1\n",
    "    return ema_array[len(ema_array) - 1]\n",
    "\n",
    "# Normalize value from a list of objects with predefined shape\n",
    "def normalize_data(val, list):\n",
    "    max_value = max(list)\n",
    "    min_value = min(list)\n",
    "    return (val - min_value) / (max_value - min_value)\n",
    "    "
   ]
  },
  {
   "cell_type": "code",
   "execution_count": 6,
   "metadata": {},
   "outputs": [
    {
     "name": "stdout",
     "output_type": "stream",
     "text": [
      "{'cvar': 0.8864836611499236,\n",
      " 'hasBugBounty': 1,\n",
      " 'insuranceRisk': 0,\n",
      " 'isCodeAudited': 1,\n",
      " 'isCodeFormallyVerified': 1,\n",
      " 'isCodeOpenSource': 1}\n"
     ]
    }
   ],
   "source": [
    "# Pulling and calculating Compound data\n",
    "compound_tokens = [x['token'] for x in constants.compoundContractInfo]\n",
    "compound_balances = [pool_data_service.fetch_data_for_pool('compound', t) for t in compound_tokens]\n",
    "compound_portfolio_cvar = generate_cvar_from_balances(compound_balances)\n",
    "# add instead of subtract here because cvar from this function is negative\n",
    "constants.compound_values['cvar'] = 1 + compound_portfolio_cvar\n",
    "pprint(constants.compound_values)"
   ]
  },
  {
   "cell_type": "code",
   "execution_count": 7,
   "metadata": {},
   "outputs": [
    {
     "name": "stdout",
     "output_type": "stream",
     "text": [
      "{'cvar': 0.8657417546227986,\n",
      " 'hasBugBounty': 1,\n",
      " 'insuranceRisk': 0,\n",
      " 'isCodeAudited': 1,\n",
      " 'isCodeFormallyVerified': 0,\n",
      " 'isCodeOpenSource': 1}\n"
     ]
    }
   ],
   "source": [
    "# Pulling and calculating dYdX data\n",
    "dydx_tokens = [x for x in constants.dydxContractInfo['markets']]\n",
    "dydx_balances = [pool_data_service.fetch_data_for_pool('dydx', t) for t in dydx_tokens]\n",
    "dydx_portfolio_cvar = generate_cvar_from_balances(dydx_balances)\n",
    "# add instead of subtract here because cvar from this function is negative\n",
    "constants.dydx_values['cvar'] = 1 + dydx_portfolio_cvar\n",
    "pprint(constants.dydx_values)"
   ]
  },
  {
   "cell_type": "code",
   "execution_count": 8,
   "metadata": {
    "scrolled": true
   },
   "outputs": [
    {
     "name": "stdout",
     "output_type": "stream",
     "text": [
      "{'cvar': 0.9484978791928579,\n",
      " 'hasBugBounty': 1,\n",
      " 'insuranceRisk': 0,\n",
      " 'isCodeAudited': 1,\n",
      " 'isCodeFormallyVerified': 0,\n",
      " 'isCodeOpenSource': 1}\n"
     ]
    }
   ],
   "source": [
    "# Pulling and calculating Fulcrum data\n",
    "fulcrum_tokens = [x['token'] for x in constants.fulcrumContractInfo]\n",
    "fulcrum_balances = [pool_data_service.fetch_data_for_pool('fulcrum', t) for t in fulcrum_tokens]\n",
    "fulcrum_portfolio_cvar = generate_cvar_from_balances(fulcrum_balances)\n",
    "# add instead of subtract here because cvar from this function is negative\n",
    "constants.fulcrum_values['cvar'] = 1 + fulcrum_portfolio_cvar\n",
    "pprint(constants.fulcrum_values)"
   ]
  },
  {
   "cell_type": "code",
   "execution_count": 9,
   "metadata": {},
   "outputs": [
    {
     "name": "stdout",
     "output_type": "stream",
     "text": [
      "{'cvar': 0.9301027909008657,\n",
      " 'hasBugBounty': 0,\n",
      " 'insuranceRisk': 0,\n",
      " 'isCodeAudited': 0,\n",
      " 'isCodeFormallyVerified': 0,\n",
      " 'isCodeOpenSource': 1}\n"
     ]
    }
   ],
   "source": [
    "# Pulling and calculating Nuo data\n",
    "nuo_tokens = [x['token'] for x in constants.nuoContractInfo]\n",
    "nuo_balances = [pool_data_service.fetch_data_for_pool('nuo', t) for t in nuo_tokens]\n",
    "nuo_portfolio_cvar = generate_cvar_from_balances(nuo_balances)\n",
    "# add instead of subtract here because cvar from this function is negative\n",
    "constants.nuo_values['cvar'] = 1 + nuo_portfolio_cvar\n",
    "pprint(constants.nuo_values)"
   ]
  },
  {
   "cell_type": "code",
   "execution_count": 17,
   "metadata": {},
   "outputs": [],
   "source": [
    "def calculate_score(protocol, token, liquidity_value, collateral_value):\n",
    "    if protocol == 'dydx':\n",
    "        protocol_values = constants.dydx_values\n",
    "    elif protocol == 'compound':\n",
    "        protocol_values = constants.compound_values\n",
    "    elif protocol == 'fulcrum':\n",
    "        protocol_values = constants.fulcrum_values\n",
    "    else:\n",
    "        protocol_values = constants.nuo_values\n",
    "    weights = constants.weights\n",
    "    score = weights['auditedCode'] * protocol_values['isCodeAudited'] + weights['allCodeOSS'] * protocol_values['isCodeOpenSource'] + weights['formalVer'] * protocol_values['isCodeFormallyVerified'] + weights['hasBugBounty'] * protocol_values['hasBugBounty'] + weights['cVaR'] * protocol_values['cvar'] + weights['poolCollateralization'] * collateral_value + weights['poolLiquidity'] * liquidity_value\n",
    "    score = round(score, 2) * 10\n",
    "    score = \"{:.1f}\".format(score)\n",
    "    result = {\n",
    "        'asset': token,\n",
    "        'protocol': protocol,\n",
    "        'metrics': {\n",
    "            'score': score,\n",
    "            'liquidity': liquidity_value,\n",
    "            'collateralized': collateral_value\n",
    "        }\n",
    "    }\n",
    "    return result\n",
    "\n",
    "def calculate_scores():\n",
    "    # Get all pool data\n",
    "    all_pool_data = pool_data_service.fetch_data_for_all_pools()\n",
    "    liquidity_array = [math.log(p['liquidity']) for p in all_pool_data]\n",
    "    utilization_array = [p['utilizationRate'] for p in all_pool_data]\n",
    "    results = []\n",
    "    for data in all_pool_data:\n",
    "        liquidity_value = normalize_data(math.log(data['liquidity']), liquidity_array)\n",
    "        # Subtracting from 1 because lower utilization is safer\n",
    "        utilization_value = 1 - normalize_data(data['utilizationRate'], utilization_array)\n",
    "        score = calculate_score(data['protocol'], data['token'], liquidity_value, utilization_value)\n",
    "        results.append(score)\n",
    "    return results"
   ]
  },
  {
   "cell_type": "code",
   "execution_count": 18,
   "metadata": {},
   "outputs": [],
   "source": [
    "scores = calculate_scores()\n",
    "with open('data.json', 'w', encoding='utf-8') as f:\n",
    "    json.dump(scores, f, ensure_ascii=False, indent=4)"
   ]
  }
 ],
 "metadata": {
  "kernelspec": {
   "display_name": "Python 3",
   "language": "python",
   "name": "python3"
  }
 },
 "nbformat": 4,
 "nbformat_minor": 2
}
