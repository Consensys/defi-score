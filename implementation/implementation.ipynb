{
 "cells": [
  {
   "cell_type": "code",
   "execution_count": 67,
   "metadata": {},
   "outputs": [],
   "source": [
    "import json, requests, time, datetime, math\n",
    "from pprint import pprint\n",
    "import numpy as np\n",
    "import pandas as pd\n",
    "from scipy.stats import norm\n",
    "from pandas_datareader import data as pdr\n",
    "from functools import reduce\n",
    "import constants, web3_service, chain_data_service\n",
    "\n",
    "# Used to find portfolio weights for an array of balances\n",
    "def getWeights(balances):\n",
    "    total = 0\n",
    "    weights = []\n",
    "    for balance in balances:\n",
    "        total += balance['balance']\n",
    "    for balance in balances:\n",
    "        percentage = balance['balance']/total\n",
    "        weights.append(percentage)\n",
    "    return weights\n",
    "\n",
    "# Used to find historical USD values for stablecoins\n",
    "def getCryptoCompareReturns(token):\n",
    "    result = requests.get(f'https://min-api.cryptocompare.com/data/v2/histoday?fsym={token}&tsym=USD&limit=720')\n",
    "    json = result.json()\n",
    "    df = pd.DataFrame([object for object in json['Data']['Data']])\n",
    "    df.insert(0, 'Date', pd.to_datetime(df['time'],unit='s'))\n",
    "    df.drop(['high', 'open', 'low', 'volumefrom', 'volumeto', 'conversionType', 'conversionSymbol', 'time'], axis=1, inplace=True)\n",
    "    df.set_index('Date', inplace=True)\n",
    "    returns = df.copy().pct_change().fillna(value=0, axis=0).rename(columns={'close': f'daily_returns_{token}'})\n",
    "    return returns\n",
    "    \n",
    "# TODO - Fix Dates\n",
    "# Used to find historical USD values for all coins but stablecoins      \n",
    "def getReturns(tokens): \n",
    "    first_date = '2017-10-06'\n",
    "    last_date = '2019-09-25'\n",
    "    df_list = []\n",
    "    for token in tokens:\n",
    "        if (token['token'][0] == 'i' and token['token'][1] == 'w'):\n",
    "            token = token['token'][2:].upper()\n",
    "        elif (token['token'][0] == 'c' or token['token'][0] ==  'w' or token['token'][0] == 'i'):\n",
    "            token = token['token'][1:].upper()\n",
    "        else:\n",
    "            token = token['token'].upper()\n",
    "        if (token == 'DAI' or token == 'USDC' or token == 'MKR' or token == 'TUSD'):\n",
    "            ticker_returns = getCryptoCompareReturns(token)\n",
    "            df_list.append(ticker_returns)\n",
    "        else:\n",
    "            ticker = f'{token}-USD'\n",
    "            ticker_close = pdr.get_data_yahoo(ticker, first_date, last_date)[['Close']]\n",
    "            ticker_returns = ticker_close.copy().pct_change().fillna(value=0, axis=0).rename(columns={'Close': f'daily_returns_{token}'})\n",
    "            df_list.append(ticker_returns)\n",
    "    df = reduce(lambda x, y: pd.merge(x, y, on = 'Date'), df_list)\n",
    "    return df\n",
    "\n",
    "def value_at_risk(returns, weights, alpha=0.95, lookback_days=520):\n",
    "    # Multiply asset returns by weights to get one weighted portfolio return\n",
    "    portfolio_returns = returns.iloc[-lookback_days:].dot(weights)\n",
    "    # Compute the correct percentile loss and multiply by value invested\n",
    "    return np.percentile(portfolio_returns, 100 * (1-alpha))\n",
    "\n",
    "def cvar(returns, weights, alpha=0.95, lookback_days=520):\n",
    "    # Call out to our existing function\n",
    "    var = value_at_risk(returns, weights, alpha, lookback_days=lookback_days)\n",
    "    returns = returns.fillna(0.0)\n",
    "    portfolio_returns = returns.iloc[-lookback_days:].dot(weights)\n",
    "    # Get back to a return rather than an absolute loss\n",
    "    var_pct_loss = var / 1\n",
    "    return np.nanmean(portfolio_returns[portfolio_returns < var_pct_loss])\n",
    "\n",
    "def generate_cvar_from_balances(balances):\n",
    "    weights = getWeights(balances)\n",
    "    returns = getReturns(balances)\n",
    "    returns = returns.fillna(0.0)\n",
    "    portfolio_returns = returns.fillna(0.0).iloc[-520:].dot(weights)\n",
    "    portfolio_cvar = cvar(returns, weights, 0.99, 520)\n",
    "    return portfolio_cvar\n",
    "\n",
    "def EMACalc(m_array, m_range):\n",
    "    k = 2/(m_range + 1)\n",
    "    # first item is just the same as the first item in the input\n",
    "    ema_array = [m_array[0]]\n",
    "    # for the rest of the items, they are computed with the previous one\n",
    "    i = 1\n",
    "    while i < m_range:\n",
    "        ema_array.append(m_array[i] * k + ema_array[i - 1] * (1 - k))\n",
    "        i += 1\n",
    "    return ema_array[len(ema_array) - 1]\n",
    "\n",
    "# Normalize value from a list of objects with predefined shape\n",
    "def normalize_data(val, list):\n",
    "    max_value = max(list, key=lambda x: x['value'])['value']\n",
    "    min_value = min(list, key=lambda x: x['value'])['value']\n",
    "    return (val - min_value) / (max_value - min_value)\n",
    "\n",
    "# Get Collateralization data, using either Alethio API or Nuo API\n",
    "def get_collateralizations():\n",
    "    collateralization_list = []\n",
    "    start_date = datetime.datetime.now() + datetime.timedelta(-30)\n",
    "    start_date_unix = round(time.mktime(start_date.timetuple()))\n",
    "    data = requests.get(f'https://api.defi.alethio.tech/v0/stats?after={start_date_unix}&granularity=24&protocols=compound,bzx,dydx').json()\n",
    "    for market in data['data']:\n",
    "        collateral_array = np.asarray([item[1] for item in market['collateral_ratio']], dtype=np.float64)\n",
    "        collateral_ema = EMACalc(collateral_array, 30)\n",
    "        market_name = f\"{market['protocol']}-{market['asset']}\"\n",
    "        collateralization_list.append({ 'market': market_name, 'value': math.log(collateral_ema)  })\n",
    "    nuo_data = requests.get('https://api.nuoscan.io/overview').json()\n",
    "    # Don't have time series data for collateralization for Nuo yet, so using single point in time\n",
    "    # Ignoring SNX, KNC, and MKR markets for now\n",
    "    outstanding_debt = sum(m['active_loan_amount_sum_primary'] for m in nuo_data['data']['reserves'] if m['currency']['short_name'] not in ['SNX', 'KNC', 'MKR'])\n",
    "    total_assets = sum(m['total_balance_primary'] for m in nuo_data['data']['reserves'] if m['currency']['short_name'] not in ['SNX', 'KNC', 'MKR'])\n",
    "    collateral_ratio = total_assets / outstanding_debt\n",
    "    for market in nuo_data['data']['reserves']:\n",
    "        if market['currency']['short_name'] not in ['SNX', 'KNC', 'MKR']:\n",
    "            market_name = f\"nuo-{market['currency']['short_name'].lower()}\"\n",
    "            collateralization_list.append({ 'market': market_name, 'value': math.log(collateral_ratio)  })\n",
    "    return collateralization_list\n",
    "\n",
    "# Get Liquidity data, using either Alethio API or Nuo API\n",
    "def get_liquidities():\n",
    "    liquidity_list = []\n",
    "    for balance in fulcrum_balances:\n",
    "        market_name = f'bzx-{balance[\"token\"]}'\n",
    "        liquidity_list.append({ 'market': market_name, 'value': math.log(balance['balance']) })\n",
    "    for balance in dydx_balances:\n",
    "        market_name = f'dydx-{balance[\"token\"]}'\n",
    "        liquidity_list.append({ 'market': market_name, 'value': math.log(balance['balance']) })\n",
    "    for balance in compound_balances:\n",
    "        market_name = f'compound-{balance[\"token\"]}'\n",
    "        liquidity_list.append({ 'market': market_name, 'value': math.log(balance['balance']) })\n",
    "    for balance in nuo_balances:\n",
    "        market_name = f\"nuo-{balance['token']}\"\n",
    "        liquidity_list.append({ 'market': market_name, 'value': math.log(balance['balance']) })\n",
    "    return liquidity_list\n",
    "\n",
    "# TODO - make this function cleaner\n",
    "# Score Calculation function\n",
    "def calculate_score(protocol, token):\n",
    "    if protocol == 'dydx':\n",
    "        protocol_values = constants.dydx_values\n",
    "    elif protocol == 'compound':\n",
    "        protocol_values = constants.compound_values\n",
    "    elif protocol == 'bzx':\n",
    "        protocol_values = constants.fulcrum_values\n",
    "    else:\n",
    "        protocol_values = constants.nuo_values\n",
    "    liquidity_array = get_liquidities()\n",
    "    liquidity_value = next((x for x in liquidity_array if x['market'] == f'{protocol}-{token}'), None)['value']\n",
    "    normalized_liquidity_value = normalize_data(liquidity_value, liquidity_array)\n",
    "    collateralization_array = get_collateralizations()\n",
    "#     pprint(collateralization_array)\n",
    "    collateralization_value = next((x for x in collateralization_array if x['market'] == f'{protocol}-{token}'), None)['value']\n",
    "    normalized_collateralization_value = normalize_data(collateralization_value, collateralization_array)\n",
    "    # Calculate score\n",
    "    pprint(normalized_collateralization_value)\n",
    "    pprint(normalized_liquidity_value)\n",
    "    weights = constants.weights\n",
    "    score = weights['auditedCode'] * protocol_values['isCodeAudited'] + weights['allCodeOSS'] * protocol_values['isCodeOpenSource'] + weights['formalVer'] * protocol_values['isCodeFormallyVerified'] + weights['hasBugBounty'] * protocol_values['hasBugBounty'] + weights['cVaR'] * protocol_values['cvar'] + weights['poolCollateralization'] * normalized_collateralization_value + weights['poolLiquidity'] * normalized_liquidity_value\n",
    "    score = round(score, 2) * 10\n",
    "    return score"
   ]
  },
  {
   "cell_type": "code",
   "execution_count": 68,
   "metadata": {},
   "outputs": [
    {
     "name": "stdout",
     "output_type": "stream",
     "text": [
      "{'cvar': 0.8861251975146153,\n",
      " 'hasBugBounty': 1,\n",
      " 'insuranceRisk': 0,\n",
      " 'isCodeAudited': 1,\n",
      " 'isCodeFormallyVerified': 1,\n",
      " 'isCodeOpenSource': 1}\n"
     ]
    }
   ],
   "source": [
    "# Pulling and calculating Compound data\n",
    "compound_balances = list(map(chain_data_service.fetch_data_for_compound_market, constants.compoundContractInfo))\n",
    "compound_portfolio_cvar = generate_cvar_from_balances(compound_balances)\n",
    "# add instead of subtract here because cvar from this function is negative\n",
    "constants.compound_values['cvar'] = 1 + compound_portfolio_cvar\n",
    "pprint(constants.compound_values)"
   ]
  },
  {
   "cell_type": "code",
   "execution_count": 57,
   "metadata": {},
   "outputs": [
    {
     "name": "stdout",
     "output_type": "stream",
     "text": [
      "{'cvar': 0.8659315839731011,\n",
      " 'hasBugBounty': 1,\n",
      " 'insuranceRisk': 0,\n",
      " 'isCodeAudited': 1,\n",
      " 'isCodeFormallyVerified': 0,\n",
      " 'isCodeOpenSource': 1}\n"
     ]
    }
   ],
   "source": [
    "# Pulling and calculating dYdX data\n",
    "dydx_balances = list(chain_data_service.fetch_data_for_dydx_market(x) for x in [0, 1, 2])\n",
    "dydx_portfolio_cvar = generate_cvar_from_balances(dydx_balances)\n",
    "# add instead of subtract here because cvar from this function is negative\n",
    "constants.dydx_values['cvar'] = 1 + dydx_portfolio_cvar\n",
    "pprint(constants.dydx_values)"
   ]
  },
  {
   "cell_type": "code",
   "execution_count": 58,
   "metadata": {
    "scrolled": true
   },
   "outputs": [
    {
     "name": "stdout",
     "output_type": "stream",
     "text": [
      "{'cvar': 0.9316391593643878,\n",
      " 'hasBugBounty': 0,\n",
      " 'insuranceRisk': 0,\n",
      " 'isCodeAudited': 1,\n",
      " 'isCodeFormallyVerified': 0,\n",
      " 'isCodeOpenSource': 1}\n"
     ]
    }
   ],
   "source": [
    "# Pulling and calculating Fulcrum data\n",
    "fulcrum_balances = list(map(chain_data_service.fetch_data_for_fulcrum_market, constants.fulcrumContractInfo))\n",
    "fulcrum_portfolio_cvar = generate_cvar_from_balances(fulcrum_balances)\n",
    "# add instead of subtract here because cvar from this function is negative\n",
    "constants.fulcrum_values['cvar'] = 1 + fulcrum_portfolio_cvar\n",
    "pprint(constants.fulcrum_values)"
   ]
  },
  {
   "cell_type": "code",
   "execution_count": 59,
   "metadata": {},
   "outputs": [
    {
     "name": "stdout",
     "output_type": "stream",
     "text": [
      "{'cvar': 0.9174366784383677,\n",
      " 'hasBugBounty': 0,\n",
      " 'insuranceRisk': 0,\n",
      " 'isCodeAudited': 0,\n",
      " 'isCodeFormallyVerified': 0,\n",
      " 'isCodeOpenSource': 1}\n"
     ]
    }
   ],
   "source": [
    "# Pulling and calculating Nuo data\n",
    "nuo_balances = list(map(chain_data_service.fetch_data_for_nuo_market, constants.nuoContractInfo))\n",
    "nuo_portfolio_cvar = generate_cvar_from_balances(nuo_balances)\n",
    "# add instead of subtract here because cvar from this function is negative\n",
    "constants.nuo_values['cvar'] = 1 + nuo_portfolio_cvar\n",
    "pprint(constants.nuo_values)"
   ]
  },
  {
   "cell_type": "code",
   "execution_count": 69,
   "metadata": {},
   "outputs": [
    {
     "name": "stdout",
     "output_type": "stream",
     "text": [
      "0.7035976966427006\n",
      "1.0\n"
     ]
    },
    {
     "data": {
      "text/plain": [
       "7.9"
      ]
     },
     "execution_count": 69,
     "metadata": {},
     "output_type": "execute_result"
    }
   ],
   "source": [
    "calculate_score('compound', 'eth')"
   ]
  },
  {
   "cell_type": "code",
   "execution_count": 70,
   "metadata": {},
   "outputs": [
    {
     "name": "stdout",
     "output_type": "stream",
     "text": [
      "0.7035968751289499\n",
      "0.8779502704503265\n"
     ]
    },
    {
     "data": {
      "text/plain": [
       "7.800000000000001"
      ]
     },
     "execution_count": 70,
     "metadata": {},
     "output_type": "execute_result"
    }
   ],
   "source": [
    "calculate_score('compound', 'dai')"
   ]
  },
  {
   "cell_type": "code",
   "execution_count": 71,
   "metadata": {},
   "outputs": [
    {
     "name": "stdout",
     "output_type": "stream",
     "text": [
      "0.7035968751289499\n",
      "0.7155389799864126\n"
     ]
    },
    {
     "data": {
      "text/plain": [
       "7.7"
      ]
     },
     "execution_count": 71,
     "metadata": {},
     "output_type": "execute_result"
    }
   ],
   "source": [
    "calculate_score('compound', 'bat')"
   ]
  },
  {
   "cell_type": "code",
   "execution_count": 72,
   "metadata": {},
   "outputs": [
    {
     "name": "stdout",
     "output_type": "stream",
     "text": [
      "0.7035976966427006\n",
      "0.7418699432588205\n"
     ]
    },
    {
     "data": {
      "text/plain": [
       "7.7"
      ]
     },
     "execution_count": 72,
     "metadata": {},
     "output_type": "execute_result"
    }
   ],
   "source": [
    "calculate_score('compound', 'zrx')"
   ]
  },
  {
   "cell_type": "code",
   "execution_count": 73,
   "metadata": {},
   "outputs": [
    {
     "name": "stdout",
     "output_type": "stream",
     "text": [
      "0.7035976966427006\n",
      "0.8897747005973563\n"
     ]
    },
    {
     "data": {
      "text/plain": [
       "7.800000000000001"
      ]
     },
     "execution_count": 73,
     "metadata": {},
     "output_type": "execute_result"
    }
   ],
   "source": [
    "calculate_score('compound', 'usdc')"
   ]
  },
  {
   "cell_type": "code",
   "execution_count": 74,
   "metadata": {},
   "outputs": [
    {
     "name": "stdout",
     "output_type": "stream",
     "text": [
      "0.7035968751289499\n",
      "0.674558496159999\n"
     ]
    },
    {
     "data": {
      "text/plain": [
       "7.6"
      ]
     },
     "execution_count": 74,
     "metadata": {},
     "output_type": "execute_result"
    }
   ],
   "source": [
    "calculate_score('compound', 'wbtc')"
   ]
  },
  {
   "cell_type": "code",
   "execution_count": 75,
   "metadata": {},
   "outputs": [
    {
     "name": "stdout",
     "output_type": "stream",
     "text": [
      "0.7035976966427006\n",
      "0.8063648261424086\n"
     ]
    },
    {
     "data": {
      "text/plain": [
       "7.7"
      ]
     },
     "execution_count": 75,
     "metadata": {},
     "output_type": "execute_result"
    }
   ],
   "source": [
    "calculate_score('compound', 'rep')"
   ]
  },
  {
   "cell_type": "code",
   "execution_count": 76,
   "metadata": {},
   "outputs": [
    {
     "name": "stdout",
     "output_type": "stream",
     "text": [
      "0.09218760989139084\n",
      "0.6755245637501309\n"
     ]
    },
    {
     "data": {
      "text/plain": [
       "6.2"
      ]
     },
     "execution_count": 76,
     "metadata": {},
     "output_type": "execute_result"
    }
   ],
   "source": [
    "calculate_score('dydx', 'usdc')"
   ]
  },
  {
   "cell_type": "code",
   "execution_count": 77,
   "metadata": {},
   "outputs": [
    {
     "name": "stdout",
     "output_type": "stream",
     "text": [
      "0.09218760989139084\n",
      "0.7587129501251869\n"
     ]
    },
    {
     "data": {
      "text/plain": [
       "6.3"
      ]
     },
     "execution_count": 77,
     "metadata": {},
     "output_type": "execute_result"
    }
   ],
   "source": [
    "calculate_score('dydx', 'dai')"
   ]
  },
  {
   "cell_type": "code",
   "execution_count": 78,
   "metadata": {},
   "outputs": [
    {
     "name": "stdout",
     "output_type": "stream",
     "text": [
      "0.09218760989139084\n",
      "0.9037634618708084\n"
     ]
    },
    {
     "data": {
      "text/plain": [
       "6.4"
      ]
     },
     "execution_count": 78,
     "metadata": {},
     "output_type": "execute_result"
    }
   ],
   "source": [
    "calculate_score('dydx', 'eth')"
   ]
  },
  {
   "cell_type": "code",
   "execution_count": 79,
   "metadata": {},
   "outputs": [
    {
     "name": "stdout",
     "output_type": "stream",
     "text": [
      "0.0\n",
      "0.5785326954845705\n"
     ]
    },
    {
     "data": {
      "text/plain": [
       "5.5"
      ]
     },
     "execution_count": 79,
     "metadata": {},
     "output_type": "execute_result"
    }
   ],
   "source": [
    "calculate_score('bzx', 'eth')"
   ]
  },
  {
   "cell_type": "code",
   "execution_count": 80,
   "metadata": {},
   "outputs": [
    {
     "name": "stdout",
     "output_type": "stream",
     "text": [
      "0.0\n",
      "0.595747477417853\n"
     ]
    },
    {
     "data": {
      "text/plain": [
       "5.5"
      ]
     },
     "execution_count": 80,
     "metadata": {},
     "output_type": "execute_result"
    }
   ],
   "source": [
    "calculate_score('bzx', 'dai')"
   ]
  },
  {
   "cell_type": "code",
   "execution_count": 81,
   "metadata": {},
   "outputs": [
    {
     "name": "stdout",
     "output_type": "stream",
     "text": [
      "0.0\n",
      "0.5113020264754392\n"
     ]
    },
    {
     "data": {
      "text/plain": [
       "5.4"
      ]
     },
     "execution_count": 81,
     "metadata": {},
     "output_type": "execute_result"
    }
   ],
   "source": [
    "calculate_score('bzx', 'usdc')"
   ]
  },
  {
   "cell_type": "code",
   "execution_count": 82,
   "metadata": {},
   "outputs": [
    {
     "name": "stdout",
     "output_type": "stream",
     "text": [
      "0.0\n",
      "0.0\n"
     ]
    },
    {
     "data": {
      "text/plain": [
       "4.9"
      ]
     },
     "execution_count": 82,
     "metadata": {},
     "output_type": "execute_result"
    }
   ],
   "source": [
    "calculate_score('bzx', 'rep')"
   ]
  },
  {
   "cell_type": "code",
   "execution_count": 83,
   "metadata": {},
   "outputs": [
    {
     "name": "stdout",
     "output_type": "stream",
     "text": [
      "0.0\n",
      "0.49977977474818447\n"
     ]
    },
    {
     "data": {
      "text/plain": [
       "5.4"
      ]
     },
     "execution_count": 83,
     "metadata": {},
     "output_type": "execute_result"
    }
   ],
   "source": [
    "calculate_score('bzx', 'wbtc')"
   ]
  },
  {
   "cell_type": "code",
   "execution_count": 84,
   "metadata": {},
   "outputs": [
    {
     "name": "stdout",
     "output_type": "stream",
     "text": [
      "0.0\n",
      "0.3905443850264408\n"
     ]
    },
    {
     "data": {
      "text/plain": [
       "5.300000000000001"
      ]
     },
     "execution_count": 84,
     "metadata": {},
     "output_type": "execute_result"
    }
   ],
   "source": [
    "calculate_score('bzx', 'link')"
   ]
  },
  {
   "cell_type": "code",
   "execution_count": 85,
   "metadata": {},
   "outputs": [
    {
     "name": "stdout",
     "output_type": "stream",
     "text": [
      "0.0\n",
      "0.14895675368132663\n"
     ]
    },
    {
     "data": {
      "text/plain": [
       "5.1"
      ]
     },
     "execution_count": 85,
     "metadata": {},
     "output_type": "execute_result"
    }
   ],
   "source": [
    "calculate_score('bzx', 'knc')"
   ]
  },
  {
   "cell_type": "code",
   "execution_count": 86,
   "metadata": {},
   "outputs": [
    {
     "name": "stdout",
     "output_type": "stream",
     "text": [
      "0.0\n",
      "0.19278891394496975\n"
     ]
    },
    {
     "data": {
      "text/plain": [
       "5.1"
      ]
     },
     "execution_count": 86,
     "metadata": {},
     "output_type": "execute_result"
    }
   ],
   "source": [
    "calculate_score('bzx', 'zrx')"
   ]
  },
  {
   "cell_type": "code",
   "execution_count": 87,
   "metadata": {},
   "outputs": [
    {
     "name": "stdout",
     "output_type": "stream",
     "text": [
      "1.0\n",
      "0.7186224784794116\n"
     ]
    },
    {
     "data": {
      "text/plain": [
       "4.6000000000000005"
      ]
     },
     "execution_count": 87,
     "metadata": {},
     "output_type": "execute_result"
    }
   ],
   "source": [
    "calculate_score('nuo', 'usdc')"
   ]
  },
  {
   "cell_type": "code",
   "execution_count": 88,
   "metadata": {},
   "outputs": [
    {
     "name": "stdout",
     "output_type": "stream",
     "text": [
      "1.0\n",
      "0.6681999589897586\n"
     ]
    },
    {
     "data": {
      "text/plain": [
       "4.6000000000000005"
      ]
     },
     "execution_count": 88,
     "metadata": {},
     "output_type": "execute_result"
    }
   ],
   "source": [
    "calculate_score('nuo', 'eth')"
   ]
  },
  {
   "cell_type": "code",
   "execution_count": 89,
   "metadata": {},
   "outputs": [
    {
     "name": "stdout",
     "output_type": "stream",
     "text": [
      "1.0\n",
      "0.6675568053550027\n"
     ]
    },
    {
     "data": {
      "text/plain": [
       "4.6000000000000005"
      ]
     },
     "execution_count": 89,
     "metadata": {},
     "output_type": "execute_result"
    }
   ],
   "source": [
    "calculate_score('nuo', 'dai')"
   ]
  },
  {
   "cell_type": "code",
   "execution_count": 90,
   "metadata": {},
   "outputs": [
    {
     "name": "stdout",
     "output_type": "stream",
     "text": [
      "1.0\n",
      "0.5748221096256262\n"
     ]
    },
    {
     "data": {
      "text/plain": [
       "4.5"
      ]
     },
     "execution_count": 90,
     "metadata": {},
     "output_type": "execute_result"
    }
   ],
   "source": [
    "calculate_score('nuo', 'wbtc')"
   ]
  },
  {
   "cell_type": "code",
   "execution_count": 91,
   "metadata": {},
   "outputs": [
    {
     "name": "stdout",
     "output_type": "stream",
     "text": [
      "1.0\n",
      "0.43997969740548465\n"
     ]
    },
    {
     "data": {
      "text/plain": [
       "4.4"
      ]
     },
     "execution_count": 91,
     "metadata": {},
     "output_type": "execute_result"
    }
   ],
   "source": [
    "calculate_score('nuo', 'zrx')"
   ]
  },
  {
   "cell_type": "code",
   "execution_count": 92,
   "metadata": {},
   "outputs": [
    {
     "name": "stdout",
     "output_type": "stream",
     "text": [
      "1.0\n",
      "0.4913666764041936\n"
     ]
    },
    {
     "data": {
      "text/plain": [
       "4.4"
      ]
     },
     "execution_count": 92,
     "metadata": {},
     "output_type": "execute_result"
    }
   ],
   "source": [
    "calculate_score('nuo', 'bat')"
   ]
  },
  {
   "cell_type": "code",
   "execution_count": 93,
   "metadata": {},
   "outputs": [
    {
     "name": "stdout",
     "output_type": "stream",
     "text": [
      "1.0\n",
      "0.7326494530878305\n"
     ]
    },
    {
     "data": {
      "text/plain": [
       "4.699999999999999"
      ]
     },
     "execution_count": 93,
     "metadata": {},
     "output_type": "execute_result"
    }
   ],
   "source": [
    "calculate_score('nuo', 'link')"
   ]
  },
  {
   "cell_type": "code",
   "execution_count": 94,
   "metadata": {},
   "outputs": [
    {
     "name": "stdout",
     "output_type": "stream",
     "text": [
      "1.0\n",
      "0.44987245275581983\n"
     ]
    },
    {
     "data": {
      "text/plain": [
       "4.4"
      ]
     },
     "execution_count": 94,
     "metadata": {},
     "output_type": "execute_result"
    }
   ],
   "source": [
    "calculate_score('nuo', 'tusd')"
   ]
  },
  {
   "cell_type": "code",
   "execution_count": 95,
   "metadata": {},
   "outputs": [
    {
     "name": "stdout",
     "output_type": "stream",
     "text": [
      "1.0\n",
      "0.3797798116229816\n"
     ]
    },
    {
     "data": {
      "text/plain": [
       "4.3"
      ]
     },
     "execution_count": 95,
     "metadata": {},
     "output_type": "execute_result"
    }
   ],
   "source": [
    "calculate_score('nuo', 'rep')"
   ]
  },
  {
   "cell_type": "code",
   "execution_count": null,
   "metadata": {},
   "outputs": [],
   "source": []
  }
 ],
 "metadata": {
  "kernelspec": {
   "display_name": "Python 3",
   "language": "python",
   "name": "python3"
  },
  "language_info": {
   "codemirror_mode": {
    "name": "ipython",
    "version": 3
   },
   "file_extension": ".py",
   "mimetype": "text/x-python",
   "name": "python",
   "nbconvert_exporter": "python",
   "pygments_lexer": "ipython3",
   "version": "3.7.4"
  }
 },
 "nbformat": 4,
 "nbformat_minor": 2
}
